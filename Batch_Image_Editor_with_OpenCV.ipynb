{
  "nbformat": 4,
  "nbformat_minor": 0,
  "metadata": {
    "colab": {
      "provenance": [],
      "authorship_tag": "ABX9TyMEPhc9ZuOyaq98BtZ1FIpH",
      "include_colab_link": true
    },
    "kernelspec": {
      "name": "python3",
      "display_name": "Python 3"
    },
    "language_info": {
      "name": "python"
    }
  },
  "cells": [
    {
      "cell_type": "markdown",
      "metadata": {
        "id": "view-in-github",
        "colab_type": "text"
      },
      "source": [
        "<a href=\"https://colab.research.google.com/github/bhawana-khajuria/Batch-Image-Editor-with-OpenCV/blob/main/Batch_Image_Editor_with_OpenCV.ipynb\" target=\"_parent\"><img src=\"https://colab.research.google.com/assets/colab-badge.svg\" alt=\"Open In Colab\"/></a>"
      ]
    },
    {
      "cell_type": "code",
      "source": [
        "import cv2\n",
        "import os"
      ],
      "metadata": {
        "id": "Pyo0ny-RozWi"
      },
      "execution_count": 7,
      "outputs": []
    },
    {
      "cell_type": "markdown",
      "source": [],
      "metadata": {
        "id": "l6ZLMGgDoy5M"
      }
    },
    {
      "cell_type": "code",
      "source": [
        "import numpy as np\n",
        "# Step 2: Generate 100 random color images\n",
        "for i in range(100):\n",
        "    # Create a random 256x256 color image\n",
        "    img = np.random.randint(0, 256, (256, 256, 3), dtype=np.uint8)\n",
        "\n",
        "    # Save the image\n",
        "    filename = f'image_{i+1:03d}.jpg'\n",
        "    cv2.imwrite(os.path.join(input_folder, filename), img)\n",
        "\n",
        "print(\"100 random images created.\")"
      ],
      "metadata": {
        "colab": {
          "base_uri": "https://localhost:8080/"
        },
        "id": "syJlBOQmovYo",
        "outputId": "23ee3588-e6dd-4373-e995-2c4964721a30"
      },
      "execution_count": 8,
      "outputs": [
        {
          "output_type": "stream",
          "name": "stdout",
          "text": [
            "100 random images created.\n"
          ]
        }
      ]
    },
    {
      "cell_type": "code",
      "execution_count": 9,
      "metadata": {
        "colab": {
          "base_uri": "https://localhost:8080/"
        },
        "id": "6mC6JDGToGEm",
        "outputId": "b6c4e9f4-4493-4582-d156-0402f8bcf317"
      },
      "outputs": [
        {
          "output_type": "stream",
          "name": "stdout",
          "text": [
            "[1/100] Resized: image_001.jpg\n",
            "[2/100] Resized: image_002.jpg\n",
            "[3/100] Resized: image_003.jpg\n",
            "[4/100] Resized: image_004.jpg\n",
            "[5/100] Resized: image_005.jpg\n",
            "[6/100] Resized: image_006.jpg\n",
            "[7/100] Resized: image_007.jpg\n",
            "[8/100] Resized: image_008.jpg\n",
            "[9/100] Resized: image_009.jpg\n",
            "[10/100] Resized: image_010.jpg\n",
            "[11/100] Resized: image_011.jpg\n",
            "[12/100] Resized: image_012.jpg\n",
            "[13/100] Resized: image_013.jpg\n",
            "[14/100] Resized: image_014.jpg\n",
            "[15/100] Resized: image_015.jpg\n",
            "[16/100] Resized: image_016.jpg\n",
            "[17/100] Resized: image_017.jpg\n",
            "[18/100] Resized: image_018.jpg\n",
            "[19/100] Resized: image_019.jpg\n",
            "[20/100] Resized: image_020.jpg\n",
            "[21/100] Resized: image_021.jpg\n",
            "[22/100] Resized: image_022.jpg\n",
            "[23/100] Resized: image_023.jpg\n",
            "[24/100] Resized: image_024.jpg\n",
            "[25/100] Resized: image_025.jpg\n",
            "[26/100] Resized: image_026.jpg\n",
            "[27/100] Resized: image_027.jpg\n",
            "[28/100] Resized: image_028.jpg\n",
            "[29/100] Resized: image_029.jpg\n",
            "[30/100] Resized: image_030.jpg\n",
            "[31/100] Resized: image_031.jpg\n",
            "[32/100] Resized: image_032.jpg\n",
            "[33/100] Resized: image_033.jpg\n",
            "[34/100] Resized: image_034.jpg\n",
            "[35/100] Resized: image_035.jpg\n",
            "[36/100] Resized: image_036.jpg\n",
            "[37/100] Resized: image_037.jpg\n",
            "[38/100] Resized: image_038.jpg\n",
            "[39/100] Resized: image_039.jpg\n",
            "[40/100] Resized: image_040.jpg\n",
            "[41/100] Resized: image_041.jpg\n",
            "[42/100] Resized: image_042.jpg\n",
            "[43/100] Resized: image_043.jpg\n",
            "[44/100] Resized: image_044.jpg\n",
            "[45/100] Resized: image_045.jpg\n",
            "[46/100] Resized: image_046.jpg\n",
            "[47/100] Resized: image_047.jpg\n",
            "[48/100] Resized: image_048.jpg\n",
            "[49/100] Resized: image_049.jpg\n",
            "[50/100] Resized: image_050.jpg\n",
            "[51/100] Resized: image_051.jpg\n",
            "[52/100] Resized: image_052.jpg\n",
            "[53/100] Resized: image_053.jpg\n",
            "[54/100] Resized: image_054.jpg\n",
            "[55/100] Resized: image_055.jpg\n",
            "[56/100] Resized: image_056.jpg\n",
            "[57/100] Resized: image_057.jpg\n",
            "[58/100] Resized: image_058.jpg\n",
            "[59/100] Resized: image_059.jpg\n",
            "[60/100] Resized: image_060.jpg\n",
            "[61/100] Resized: image_061.jpg\n",
            "[62/100] Resized: image_062.jpg\n",
            "[63/100] Resized: image_063.jpg\n",
            "[64/100] Resized: image_064.jpg\n",
            "[65/100] Resized: image_065.jpg\n",
            "[66/100] Resized: image_066.jpg\n",
            "[67/100] Resized: image_067.jpg\n",
            "[68/100] Resized: image_068.jpg\n",
            "[69/100] Resized: image_069.jpg\n",
            "[70/100] Resized: image_070.jpg\n",
            "[71/100] Resized: image_071.jpg\n",
            "[72/100] Resized: image_072.jpg\n",
            "[73/100] Resized: image_073.jpg\n",
            "[74/100] Resized: image_074.jpg\n",
            "[75/100] Resized: image_075.jpg\n",
            "[76/100] Resized: image_076.jpg\n",
            "[77/100] Resized: image_077.jpg\n",
            "[78/100] Resized: image_078.jpg\n",
            "[79/100] Resized: image_079.jpg\n",
            "[80/100] Resized: image_080.jpg\n",
            "[81/100] Resized: image_081.jpg\n",
            "[82/100] Resized: image_082.jpg\n",
            "[83/100] Resized: image_083.jpg\n",
            "[84/100] Resized: image_084.jpg\n",
            "[85/100] Resized: image_085.jpg\n",
            "[86/100] Resized: image_086.jpg\n",
            "[87/100] Resized: image_087.jpg\n",
            "[88/100] Resized: image_088.jpg\n",
            "[89/100] Resized: image_089.jpg\n",
            "[90/100] Resized: image_090.jpg\n",
            "[91/100] Resized: image_091.jpg\n",
            "[92/100] Resized: image_092.jpg\n",
            "[93/100] Resized: image_093.jpg\n",
            "[94/100] Resized: image_094.jpg\n",
            "[95/100] Resized: image_095.jpg\n",
            "[96/100] Resized: image_096.jpg\n",
            "[97/100] Resized: image_097.jpg\n",
            "[98/100] Resized: image_098.jpg\n",
            "[99/100] Resized: image_099.jpg\n",
            "[100/100] Resized: image_100.jpg\n",
            "All images resized to 50% and saved to 'resized_images/' folder.\n"
          ]
        }
      ],
      "source": [
        "# Paths\n",
        "input_folder = 'images'\n",
        "output_folder = 'resized_images'\n",
        "\n",
        "# Create input folder if it doesn't exist\n",
        "os.makedirs(input_folder, exist_ok=True)\n",
        "\n",
        "# Create output folder if it doesn't exist\n",
        "os.makedirs(output_folder, exist_ok=True)\n",
        "\n",
        "# Get list of image files\n",
        "image_files = sorted([f for f in os.listdir(input_folder) if f.lower().endswith(('.png', '.jpg', '.jpeg'))])[:100]\n",
        "\n",
        "# Resize each image\n",
        "for i, file_name in enumerate(image_files):\n",
        "    input_path = os.path.join(input_folder, file_name)\n",
        "    output_path = os.path.join(output_folder, file_name)\n",
        "\n",
        "    # Read image\n",
        "    img = cv2.imread(input_path)\n",
        "    if img is None:\n",
        "        print(f\"Skipping {file_name} (could not read)\")\n",
        "        continue\n",
        "\n",
        "    # Resize to 50%\n",
        "    height, width = img.shape[:2]\n",
        "    resized_img = cv2.resize(img, (width // 2, height // 2), interpolation=cv2.INTER_AREA)\n",
        "\n",
        "    # Save resized image\n",
        "    cv2.imwrite(output_path, resized_img)\n",
        "\n",
        "    print(f\"[{i+1}/100] Resized: {file_name}\")\n",
        "\n",
        "print(\"All images resized to 50% and saved to 'resized_images/' folder.\")"
      ]
    }
  ]
}